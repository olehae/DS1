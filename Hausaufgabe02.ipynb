{
 "cells": [
  {
   "cell_type": "markdown",
   "id": "93cff492-b993-4b0d-a70b-13c52a25a17f",
   "metadata": {},
   "source": [
    "## Hausaufgabe 2 \n",
    "\n",
    "### Abgage via studip bis spätestens 08.05. 12:00 Uhr (zur VL)! \n",
    "### Verteidigung 11.05. 08:00-10:00 Uhr (Timeslots werden vorher bekannt gegeben)!\n",
    "\n",
    "\n",
    "- In jedem Blatt kann maximal 5% Bonus erreicht werden, falls:\n",
    "    - Mind. 60% des Arbeitsblatts korrekt bearbeitet wurde und\n",
    "    - das Arbeitsblatt erfolgreich verteidigt (den Tutoren erklärt) wurde.\n",
    "    - Bonus % = 5% * Teil der Hausaufgabe erfolgreich verteidigt\n",
    "    - Erfolgreiche Verteidigung: Ein von uns ausgewähltes Team-Mitglied erklärt die Lösung und beantwortet Fragen dazu.\n",
    "    - ChatGPT und andere Hilfsmittel dürfen verwendet werden, müssen aber zitiert werden.\n",
    "    - Code muss ohne Hilfsmittel erläutert werden\n",
    "- Wir bewerten nicht nur die Korrektheit der Ergebnisse, sondern auch ob der Code effizient, einfach zu verstehen, aufgeräumt und gut dokumentiert ist.\n",
    "- Geben Sie eine Lösung pro Gruppe ab und packen Sie Ihre Lösung in eine Zip-Datei mit dem Namen und Matrikelnummer eines Mitglieds. Also z.B. `mustermann_12345678.zip` "
   ]
  },
  {
   "cell_type": "markdown",
   "id": "6a89ae56-4d82-4486-ab4d-053c537e614d",
   "metadata": {},
   "source": [
    "\n",
    "Installatieren Sie (falls nicht vorhanden) den bash-kernel durch: `pip install bash_kernel ; python -m bash_kernel.install`"
   ]
  },
  {
   "cell_type": "markdown",
   "id": "88a1ce2f-002b-4808-980f-b820ae4880c7",
   "metadata": {},
   "source": [
    "_________"
   ]
  },
  {
   "cell_type": "markdown",
   "id": "9ff8bfe9-f1a8-474f-8f6c-c9d78269b08e",
   "metadata": {},
   "source": [
    "\n",
    "In dieser Aufgabe ist das Ziel ein durch einzelne kurze Skripts einen Text zu bearbeiten sodass dieser anschließend einfacher zu verwenden ist (z.B. für Data-Science Anwendungen)"
   ]
  },
  {
   "cell_type": "markdown",
   "id": "bdb4b2f2-fa60-40ae-a990-a1bc1fd35ded",
   "metadata": {},
   "source": [
    "Der Text den wir im Folgenden bearbeiten werden ist das Deutsche Grundgesetz. "
   ]
  },
  {
   "cell_type": "markdown",
   "id": "62dd260d-5f9e-4479-b600-148d24122dd3",
   "metadata": {},
   "source": [
    "## 1 a)  [2,5%]"
   ]
  },
  {
   "cell_type": "markdown",
   "id": "a70f8b74-7a10-4887-b598-4976c2d072e8",
   "metadata": {},
   "source": [
    "Erstellen Sie einen neuen Ordner und laden Sie den Text herunter den Sie unter folgender Adresse finden: https://raw.githubusercontent.com/levinalex/deutsche_verfassungen/master/grundgesetz/grundgesetz.txt"
   ]
  },
  {
   "cell_type": "code",
   "execution_count": 1,
   "id": "4cf7ec97",
   "metadata": {
    "ExecuteTime": {
     "end_time": "2023-04-24T12:40:36.754569Z",
     "start_time": "2023-04-24T12:40:36.728702Z"
    },
    "tags": [],
    "vscode": {
     "languageId": "shellscript"
    }
   },
   "outputs": [
    {
     "name": "stdout",
     "output_type": "stream",
     "text": [
      "bash: fg: %%bash: no such job\n",
      "--2023-05-04 16:48:37--  https://raw.githubusercontent.com/levinalex/deutsche_verfassungen/master/grundgesetz/grundgesetz.txt\n",
      "Resolving raw.githubusercontent.com (raw.githubusercontent.com)... 185.199.108.133, 185.199.109.133, 185.199.110.133, ...\n",
      "Connecting to raw.githubusercontent.com (raw.githubusercontent.com)|185.199.108.133|:443... connected.\n",
      "HTTP request sent, awaiting response... 200 OK\n",
      "Length: 146482 (143K) [text/plain]\n",
      "Saving to: ‘grundgesetz.txt’\n",
      "\n",
      "grundgesetz.txt     100%[===================>] 143.05K  --.-KB/s    in 0.01s   \n",
      "\n",
      "2023-05-04 16:48:38 (10.0 MB/s) - ‘grundgesetz.txt’ saved [146482/146482]\n",
      "\n"
     ]
    }
   ],
   "source": [
    "%%bash\n",
    "mkdir Grundgesetz\n",
    "cd Grundgesetz\n",
    "wget https://raw.githubusercontent.com/levinalex/deutsche_verfassungen/master/grundgesetz/grundgesetz.txt"
   ]
  },
  {
   "cell_type": "markdown",
   "id": "c944b26c-796f-4640-ab5b-b1d26e39d41e",
   "metadata": {},
   "source": [
    "## 1 b) [10%]\n",
    "Der Text hat eine klare Struktur. Aber am Anfang findet sich ein Stück Text welches nicht in diese Struktur passt. Schreiben Sie ein einzeiliges Skript welches alles vor dem Start der Auflistung der Artikel (und Kapitel) aus dem Text löscht. Speichern Sie die Ausgabe in einer neuen Datei. \n",
    "Stellen Sie sicher dass Ihr Skript auch funktioniert wenn sich der Text am Start ändert!"
   ]
  },
  {
   "cell_type": "code",
   "execution_count": 3,
   "id": "8f496c9f",
   "metadata": {
    "tags": [],
    "vscode": {
     "languageId": "shellscript"
    }
   },
   "outputs": [
    {
     "name": "stdout",
     "output_type": "stream",
     "text": [
      "bash: fg: %%bash: no such job\n",
      "bash: cd: Grundgesetz/: No such file or directory\n"
     ]
    }
   ],
   "source": [
    "%%bash\n",
    "cd Grundgesetz/\n",
    "sed '/I$/,$!d' grundgesetz.txt > gr.txt"
   ]
  },
  {
   "cell_type": "raw",
   "id": "8c335547-540c-43c6-900c-57d3e608d16f",
   "metadata": {},
   "source": [
    "Quelle: https://www.2daygeek.com/linux-remove-delete-lines-in-file-sed-command/"
   ]
  },
  {
   "cell_type": "markdown",
   "id": "cea6b9eb-4e7a-4819-84be-5ee6cb9e3ccc",
   "metadata": {},
   "source": [
    "## 1 c) [10%]\n",
    "Splitten Sie den Text in einzelne Dateien auf basierend auf den Kapiteln (z.B. \"I Die Grundrechte\") nummerieren Sie die Dateien."
   ]
  },
  {
   "cell_type": "code",
   "execution_count": 7,
   "id": "05fc7d12",
   "metadata": {},
   "outputs": [
    {
     "name": "stdout",
     "output_type": "stream",
     "text": [
      "bash: cd: Grundgesetz: No such file or directory\n"
     ]
    }
   ],
   "source": [
    "cd Grundgesetz\n",
    "awk 'BEGIN {RS=\"\\n\\n\\n\\n\\n\"}{print > \"Kapitel\" NR \".txt\"}' gr.txt\n",
    "for file in *; do sed -i -e 1,3d \"$file\"; done"
   ]
  },
  {
   "cell_type": "code",
   "execution_count": null,
   "id": "46574fdc-e994-4f39-b94d-709f57aa3892",
   "metadata": {},
   "outputs": [],
   "source": [
    "Quelle: ChatGPT"
   ]
  },
  {
   "cell_type": "markdown",
   "id": "9062180c-82cf-427a-b0a8-7db677df12ac",
   "metadata": {},
   "source": [
    "## 1 d) [30%]\n",
    "Splitten Sie jedes Kapitel in die einzelnen Artikel auf. Jeder Artikel soll in einer eigenen Datei sein welche die Nummer des Artikels als Dateinamen. Erstellen Sie für jedes Kapitel einen neuen Unterordner in dem die Artikel gesammelt werden."
   ]
  },
  {
   "cell_type": "code",
   "execution_count": 8,
   "id": "4ae300e4",
   "metadata": {},
   "outputs": [
    {
     "name": "stdout",
     "output_type": "stream",
     "text": [
      "bash: cd: Grundgesetz: No such file or directory\n",
      "1\n",
      "458\n",
      "394\n",
      "546\n",
      "332\n",
      "632\n",
      "793\n",
      "1588\n",
      "251\n",
      "862\n",
      "527\n",
      "642\n",
      "459\n",
      "2904\n",
      "2648\n",
      "621\n",
      "332\n",
      "542\n",
      "2242\n",
      "192\n",
      "782\n",
      "531\n",
      "736\n",
      "589\n",
      "298\n",
      "685\n",
      "54\n",
      "2756\n",
      "838\n",
      "204\n",
      "443\n",
      "89\n",
      "1364\n",
      "4637\n",
      "193\n",
      "47\n",
      "383\n",
      "923\n",
      "447\n",
      "1256\n",
      "407\n",
      "463\n",
      "455\n",
      "732\n",
      "348\n",
      "301\n",
      "661\n",
      "322\n",
      "713\n",
      "221\n",
      "432\n",
      "217\n",
      "265\n",
      "1016\n",
      "342\n",
      "518\n",
      "26\n",
      "153\n",
      "609\n",
      "758\n",
      "312\n",
      "837\n",
      "1198\n",
      "344\n",
      "515\n",
      "184\n",
      "351\n",
      "559\n",
      "415\n",
      "968\n",
      "90\n",
      "933\n",
      "256\n",
      "477\n",
      "115\n",
      "263\n",
      "389\n",
      "480\n",
      "538\n",
      "327\n",
      "209\n",
      "697\n",
      "1725\n",
      "3691\n",
      "1036\n",
      "1917\n",
      "2220\n",
      "302\n",
      "1018\n",
      "1432\n",
      "1117\n",
      "1435\n",
      "593\n",
      "148\n",
      "1377\n",
      "1013\n",
      "373\n",
      "1719\n",
      "1389\n",
      "1443\n",
      "192\n",
      "370\n",
      "1711\n",
      "854\n",
      "295\n",
      "811\n",
      "475\n",
      "909\n",
      "1391\n",
      "287\n",
      "222\n",
      "1967\n",
      "624\n",
      "797\n",
      "1325\n",
      "763\n",
      "1109\n",
      "342\n",
      "1176\n",
      "197\n",
      "49\n",
      "299\n",
      "1292\n",
      "1540\n",
      "672\n",
      "5824\n",
      "336\n",
      "1772\n",
      "2243\n",
      "1225\n",
      "1346\n",
      "1019\n",
      "269\n",
      "1037\n",
      "651\n",
      "666\n",
      "1734\n",
      "152\n",
      "1359\n",
      "833\n",
      "744\n",
      "538\n",
      "730\n",
      "1101\n",
      "647\n",
      "951\n",
      "829\n",
      "809\n",
      "365\n",
      "369\n",
      "235\n",
      "452\n",
      "1205\n",
      "763\n",
      "163\n",
      "333\n",
      "653\n",
      "149\n",
      "338\n",
      "657\n",
      "131\n",
      "379\n",
      "173\n",
      "992\n",
      "825\n",
      "750\n",
      "1164\n",
      "115\n",
      "959\n",
      "2031\n",
      "1557\n",
      "293\n",
      "675\n",
      "215\n",
      "193\n",
      "156\n",
      "14\n",
      "139\n",
      "229\n",
      "873\n",
      "869\n",
      "1006\n",
      "485\n",
      "330\n",
      "283\n"
     ]
    }
   ],
   "source": [
    "cd Grundgesetz\n",
    "counter=1\n",
    "while [ $counter -lt 14 ]; do\n",
    "    mkdir Kapitel$counter\n",
    "    mv Kapitel$counter.txt Kapitel$counter\n",
    "    cd Kapitel$counter\n",
    "    csplit -z Kapitel$counter.txt /^Artikel/ '{*}'\n",
    "    for file in *; do mv \"$file\" \"$(head -n 1 \"$file\").txt\"; done\n",
    "    let counter+=1\n",
    "    cd ..\n",
    "done\n"
   ]
  },
  {
   "cell_type": "markdown",
   "id": "9c599174-ac8c-41e6-a7f2-fcb799e0d907",
   "metadata": {},
   "source": [
    "Quellen: ChatGPT, https://unix.stackexchange.com/questions/263904/split-file-into-multiple-files-based-on-pattern"
   ]
  },
  {
   "cell_type": "markdown",
   "id": "a31a8bd9-912e-4b77-894c-74bba797cdfd",
   "metadata": {},
   "source": [
    "## 1 e) [5%]\n",
    "Löschen Sie die ursprünglichen Daten und die Daten welche Sie im Verlauf des Prozesses (abgesehen von 1d)) generiert haben. Am Ende sollen nur noch die Dateien zu den einzelnen Artikel (in getrennten Ordnern) vorhanden sein.  "
   ]
  },
  {
   "cell_type": "code",
   "execution_count": 33,
   "id": "371bf163",
   "metadata": {},
   "outputs": [
    {
     "name": "stdout",
     "output_type": "stream",
     "text": [
      "bash: cd: Grundgesetz: No such file or directory\n"
     ]
    }
   ],
   "source": [
    "cd Grundgesetz\n",
    "rm gr.txt\n",
    "rm grundgesetz.txt"
   ]
  },
  {
   "cell_type": "markdown",
   "id": "07fe1e5b-805e-40ad-b28a-2d26553ba710",
   "metadata": {},
   "source": [
    "## 1 f) [2,5%]\n",
    "Packen Sie den Inhalt des gesamten Ordners in komprimiertes tar-Archiv."
   ]
  },
  {
   "cell_type": "code",
   "execution_count": null,
   "id": "83b3476e",
   "metadata": {},
   "outputs": [],
   "source": []
  },
  {
   "cell_type": "markdown",
   "id": "76f7f642-b851-473a-a90d-5046ede450a2",
   "metadata": {},
   "source": [
    "_________"
   ]
  },
  {
   "cell_type": "markdown",
   "id": "ef3bbe6b-21bd-47a8-9d74-1c13e3453c8d",
   "metadata": {
    "vscode": {
     "languageId": "shellscript"
    }
   },
   "source": [
    "## 2 a) [20%]\n",
    "Schreiben Sie ein Shell-Skript, dass alle x Sekunden ausgibt ob ein durch eine PID identifizierter Prozess läuft oder nicht.\n",
    "Übergeben Sie die Anzahl an Sekunden und die PID als Parameter an das Skript, sodass es wie folgt aufgerufen werden kann:\n",
    "\n",
    "```bash\n",
    "$ script [PID] [SECONDS]\n",
    "```\n",
    "Ihnen sind keine Einschränkungen gegeben, welche Befehle Sie dafür verwenden.\n",
    "\n",
    "**Nützliche Befehle:** `grep`,`ps`"
   ]
  },
  {
   "cell_type": "markdown",
   "id": "623c7c5d-0f24-4e65-acf9-499164214986",
   "metadata": {
    "tags": []
   },
   "source": [
    "## 2 b) [20%]\n",
    "Schreiben Sie ein Shell-Skript, das die Verzeichnisstruktur eines als Parameter angegebenen Verzeichnisses auflisten kann. Schreiben Sie dazu eine rekursive Funktion, die in Unterverzeichnisse herabsteigt. \n",
    "Geben Sie das Verzeichnis und die Dateien auf dem Bildschirm aus. \n",
    "Nutzen Sie Einrückungen um die Zugehörigkeit von Dateien und Verzeichnissen zueinander zu kennzeichnen. \n",
    "Dies kann dann zum Beispiel so aussehen:\n",
    "\n",
    "```\n",
    "File: linux-3.14/COPYING\n",
    "File: linux-3.14/CREDITS\n",
    "Directory: linux-3.14/Documentation\n",
    "    File: linux-3.14/Documentation/00-INDEX \n",
    "    Directory: linux-3.14/Documentation/ABI\n",
    "        File: linux-3.14/Documentation/ABI/README \n",
    "        Directory: linux-3.14/Documentation/ABI/obsolete        \n",
    "            File: linux-3.14/Documentation/ABI/obsolete/proc-sys-vm-nr_pdflush_threads \n",
    "            File: linux-3.14/Documentation/ABI/obsolete/sysfs-bus-usb\n",
    "            File: linux-3.14/Documentation/ABI/obsolete/sysfs-class-rfkill\n",
    "            File: linux-3.14/Documentation/ABI/obsolete/sysfs-driver-hid-roccat-koneplus \n",
    "            File: linux-3.14/Documentation/ABI/obsolete/sysfs-driver-hid-roccat-kovaplus \n",
    "            File: linux-3.14/Documentation/ABI/obsolete/sysfs-driver-hid-roccat-pyra\n",
    "        Directory: linux-3.14/Documentation/ABI/removed \n",
    "            File: linux-3.14/Documentation/ABI/removed/devfs \n",
    "            File: linux-3.14/Documentation/ABI/removed/dv1394\n",
    "...\n",
    "\n",
    "```\n",
    "\n",
    "**Hinweis:** es ist möglich, in der bash Funktionen zu definieren. Die Syntax finden Sie z.B. hier: http://tldp.org/LDP/abs/html/functions.html\n",
    "\n",
    "**Nützliche Befehle:** `find`,`printf`"
   ]
  }
 ],
 "metadata": {
  "kernelspec": {
   "display_name": "Bash",
   "language": "bash",
   "name": "bash"
  },
  "language_info": {
   "codemirror_mode": "shell",
   "file_extension": ".sh",
   "mimetype": "text/x-sh",
   "name": "bash"
  },
  "vscode": {
   "interpreter": {
    "hash": "8fa2a39dc98f14384214061e3a8c32603dbb899665817f3de4b9ccce2b523a71"
   }
  }
 },
 "nbformat": 4,
 "nbformat_minor": 5
}
