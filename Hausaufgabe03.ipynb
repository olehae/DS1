{
 "cells": [
  {
   "cell_type": "markdown",
   "metadata": {},
   "source": [
    "# Hausaufgabe 3\n",
    "\n",
    "### Abgage via studip bis spätestens 22.05. 12:00 Uhr (zur VL)! \n",
    "### Verteidigung 25.05. 08:00-11:00 Uhr (Timeslots auf StudIP)!\n",
    "\n",
    "\n",
    "- In jedem Blatt kann maximal 5% Bonus erreicht werden, falls:\n",
    "    - Mind. 60% des Arbeitsblatts korrekt bearbeitet wurde und\n",
    "    - das Arbeitsblatt erfolgreich verteidigt (den Tutoren erklärt) wurde.\n",
    "    - Bonus % = 5% * Teil der Hausaufgabe erfolgreich verteidigt\n",
    "    - Erfolgreiche Verteidigung: Ein von uns ausgewähltes Team-Mitglied erklärt die Lösung und beantwortet Fragen dazu.\n",
    "    - ChatGPT und andere Hilfsmittel dürfen verwendet werden, müssen aber zitiert werden.\n",
    "    - Code muss ohne Hilfsmittel erläutert werden\n",
    "- Wir bewerten nicht nur die Korrektheit der Ergebnisse, sondern auch ob der Code effizient, einfach zu verstehen, aufgeräumt und gut dokumentiert ist.\n",
    "- Geben Sie eine Lösung pro Gruppe ab und packen Sie Ihre Lösung in eine Zip-Datei mit dem Namen und Matrikelnummer eines Mitglieds. Also z.B. `mustermann_12345678.zip` "
   ]
  },
  {
   "cell_type": "code",
   "execution_count": 1,
   "metadata": {
    "ExecuteTime": {
     "end_time": "2023-05-11T13:02:28.767169Z",
     "start_time": "2023-05-11T13:02:26.617461Z"
    },
    "tags": []
   },
   "outputs": [],
   "source": [
    "import numpy as np\n",
    "import matplotlib.pyplot as plt"
   ]
  },
  {
   "cell_type": "markdown",
   "metadata": {},
   "source": [
    "## Aufgabe 1"
   ]
  },
  {
   "cell_type": "markdown",
   "metadata": {},
   "source": [
    "In den folgenden Teilaufgaben ist das Ergebnis immer mit angegeben, damit Sie alle Aufgaben bearbeiten können, auch wenn Sie eine Teilaufgabe nicht lösen können. Punkte gibt es selbstverständlich nur, falls Sie das Ergebnis selbstständig mit Numpy Funktionen produzieren."
   ]
  },
  {
   "cell_type": "markdown",
   "metadata": {},
   "source": [
    "a) [5%] Erstellen Sie folgenden Numpy Array:\n",
    "```\n",
    "arr = np.array([[ 1. ,  1.5,  2. ,  2.5,  3. ],\n",
    "                [ 3.5,  4. ,  4.5,  5. ,  5.5],\n",
    "                [ 6. ,  6.5,  7. ,  7.5,  8. ],\n",
    "                [ 8.5,  9. ,  9.5, 10. , 10.5],\n",
    "                [11. , 11.5, 12. , 12.5, 13. ],\n",
    "                [13.5, 14. , 14.5, 15. , 15.5],\n",
    "                [16. , 16.5, 17. , 17.5, 18. ],\n",
    "                [18.5, 19. , 19.5, 20. , 20.5]])\n",
    "```"
   ]
  },
  {
   "cell_type": "code",
   "execution_count": 2,
   "metadata": {
    "ExecuteTime": {
     "end_time": "2023-05-11T13:02:42.199137Z",
     "start_time": "2023-05-11T13:02:42.134380Z"
    },
    "tags": []
   },
   "outputs": [
    {
     "data": {
      "text/plain": [
       "array([[ 1. ,  1.5,  2. ,  2.5,  3. ],\n",
       "       [ 3.5,  4. ,  4.5,  5. ,  5.5],\n",
       "       [ 6. ,  6.5,  7. ,  7.5,  8. ],\n",
       "       [ 8.5,  9. ,  9.5, 10. , 10.5],\n",
       "       [11. , 11.5, 12. , 12.5, 13. ],\n",
       "       [13.5, 14. , 14.5, 15. , 15.5],\n",
       "       [16. , 16.5, 17. , 17.5, 18. ],\n",
       "       [18.5, 19. , 19.5, 20. , 20.5]])"
      ]
     },
     "execution_count": 2,
     "metadata": {},
     "output_type": "execute_result"
    }
   ],
   "source": [
    "arr = np.arange(1, 21, 0.5)\n",
    "arr = np.reshape(arr, (8, 5))\n",
    "arr"
   ]
  },
  {
   "cell_type": "markdown",
   "metadata": {},
   "source": [
    "b) [5%] Finden Sie die Indicies, in denen der Array ganze Zahlen beinhaltet.\n",
    "```\n",
    "idx = np.array([[ True, False,  True, False,  True],\n",
    "                [False,  True, False,  True, False],\n",
    "                [ True, False,  True, False,  True],\n",
    "                [False,  True, False,  True, False],\n",
    "                [ True, False,  True, False,  True],\n",
    "                [False,  True, False,  True, False],\n",
    "                [ True, False,  True, False,  True],\n",
    "                [False,  True, False,  True, False]])\n",
    "```"
   ]
  },
  {
   "cell_type": "code",
   "execution_count": 3,
   "metadata": {
    "ExecuteTime": {
     "end_time": "2023-05-11T13:03:13.818473Z",
     "start_time": "2023-05-11T13:03:13.680752Z"
    },
    "tags": []
   },
   "outputs": [
    {
     "data": {
      "text/plain": [
       "array([[ True, False,  True, False,  True],\n",
       "       [False,  True, False,  True, False],\n",
       "       [ True, False,  True, False,  True],\n",
       "       [False,  True, False,  True, False],\n",
       "       [ True, False,  True, False,  True],\n",
       "       [False,  True, False,  True, False],\n",
       "       [ True, False,  True, False,  True],\n",
       "       [False,  True, False,  True, False]])"
      ]
     },
     "execution_count": 3,
     "metadata": {},
     "output_type": "execute_result"
    }
   ],
   "source": [
    "arr = arr.ravel()\n",
    "idx = arr%1==0\n",
    "idx = np.reshape(idx, (8,5))\n",
    "idx"
   ]
  },
  {
   "cell_type": "markdown",
   "metadata": {},
   "source": [
    "c) [10%] Nutzen Sie die Indicies um alle ganzen Zahlen aus dem Array zu bekommen. \\\n",
    "Teilen Sie dann diesen Array auf in zwei gleich große Arrays. Der Schnittpunkt sollte automatisch errechnet werden, also keine feste Zahl per Hand eintragen.\n",
    "\n",
    "Tipp: Beachten Sie, dass Sie dazu den berechneten Schnittpunkt mit Hilfe der `int()` Funktion von einem Float in einen Integer umwandeln müssen, weil Indicies den Type Integer haben müssen. \n",
    "```\n",
    "arr_1 = np.array([ 1.,  2.,  3.,  4.,  5.,  6.,  7.,  8.,  9., 10.])\n",
    "arr_2 = np.array([11., 12., 13., 14., 15., 16., 17., 18., 19., 20.])\n",
    "```"
   ]
  },
  {
   "cell_type": "code",
   "execution_count": 4,
   "metadata": {
    "ExecuteTime": {
     "end_time": "2023-05-11T13:04:40.005924Z",
     "start_time": "2023-05-11T13:04:39.928432Z"
    },
    "tags": []
   },
   "outputs": [
    {
     "name": "stdout",
     "output_type": "stream",
     "text": [
      "[ 1.  2.  3.  4.  5.  6.  7.  8.  9. 10.]\n",
      "[11. 12. 13. 14. 15. 16. 17. 18. 19. 20.]\n"
     ]
    }
   ],
   "source": [
    "whole_nums = arr[arr%1==0]\n",
    "arr_1 = whole_nums[:(len(whole_nums))//2]\n",
    "arr_2 = whole_nums[(len(whole_nums))//2:]\n",
    "print(arr_1)\n",
    "print(arr_2)"
   ]
  },
  {
   "cell_type": "markdown",
   "metadata": {},
   "source": [
    "## Aufgabe 2"
   ]
  },
  {
   "cell_type": "markdown",
   "metadata": {},
   "source": [
    "In dieser Aufgabe werden Sie eine 2D normal-verteilte (Gauss-Verteilung) Punktewolke erstellen und diese mit Hilfe einer Rotationsmatrix um die eigene Achse rotieren. Sollten Sie einzelne Teilaufgaben nicht lösen können, können Sie die Ergebnisse laden und mit den verbleibenden Teilaufgaben fortfahren."
   ]
  },
  {
   "cell_type": "markdown",
   "metadata": {},
   "source": [
    "a) [10%] Erstellen Sie einen Array mit 2000 Samplen aus einer 2D multivariaten Gauss Verteilung mit Mittelwert `np.array([0, 0])` und Covarianz `cov = np.array([[1, 0.], [0., 10]])`. \n",
    "\n",
    "Stellen Sie sicher, dass Sie Ihre Daten reproduzieren können, indem Sie sich informieren, was ein **Seed** ist. Setzen Sie diesen **Seed** auf die Zahl `101`.\n",
    "\n",
    "```\n",
    "Backup data:\n",
    "data = np.load(\"backup_data_2a.npy\")\n",
    "```"
   ]
  },
  {
   "cell_type": "code",
   "execution_count": 5,
   "metadata": {
    "ExecuteTime": {
     "end_time": "2023-05-11T13:50:46.977646Z",
     "start_time": "2023-05-11T13:50:46.892551Z"
    },
    "tags": []
   },
   "outputs": [
    {
     "name": "stdout",
     "output_type": "stream",
     "text": [
      "[[ 0.62813271 12.10540049]\n",
      " [ 0.50382575  4.06056281]\n",
      " [-0.31931804  2.91188799]\n",
      " ...\n",
      " [-1.48197413  1.99887437]\n",
      " [ 1.18154159  6.84500004]\n",
      " [-0.74131681  2.23585443]]\n"
     ]
    }
   ],
   "source": [
    "np.random.seed(101)\n",
    "# Beim auskommentierten data = habe ich die Werte aus der Aufgabenstellung übernommen, \n",
    "# beim zweiten habe ich cov so angepasst, dass die plots bei 2c exakt mit der Vorlage übereinstimmen\n",
    "# data = np.random.multivariate_normal(mean=np.array([0, 0]), cov=np.array([[1, 0.], [0., 20]]), size=2000)\n",
    "data = np.random.multivariate_normal(mean=np.array([0, 0]), cov=np.array([[1, 0.], [0., 20]]), size=2000)\n",
    "# data = np.load(\"backup_data_2a.npy\")\n",
    "print(data)"
   ]
  },
  {
   "cell_type": "markdown",
   "metadata": {},
   "source": [
    "b) [15%] Definieren Sie eine Funktion, die Ihnen eine Rotationsmatrix abhängig von einem Rotationswinkel $\\theta$ erstellt"
   ]
  },
  {
   "cell_type": "code",
   "execution_count": 6,
   "metadata": {
    "ExecuteTime": {
     "end_time": "2023-05-11T13:56:45.268075Z",
     "start_time": "2023-05-11T13:56:45.211595Z"
    },
    "tags": []
   },
   "outputs": [],
   "source": [
    "from numpy import sin, cos\n",
    "def get_rotation_matrix(theta):\n",
    "    # Programmieren Sie diese Funktion\n",
    "    \n",
    "    rotation_matrix = np.array([[np.cos(theta), -np.sin(theta)],\n",
    "                                [np.sin(theta), np.cos(theta)]])\n",
    "    \n",
    "    return rotation_matrix"
   ]
  },
  {
   "cell_type": "markdown",
   "metadata": {},
   "source": [
    "Quelle: https://en.wikipedia.org/wiki/Rotation_matrix"
   ]
  },
  {
   "cell_type": "code",
   "execution_count": 7,
   "metadata": {
    "ExecuteTime": {
     "end_time": "2023-05-11T13:57:25.106972Z",
     "start_time": "2023-05-11T13:57:25.036427Z"
    },
    "tags": []
   },
   "outputs": [
    {
     "name": "stdout",
     "output_type": "stream",
     "text": [
      "[[ 0.76604444 -0.64278761]\n",
      " [ 0.64278761  0.76604444]]\n",
      "[[8.26237902 8.86951886]\n",
      " [2.99603238 2.78671862]\n",
      " [1.6271137  2.43588929]\n",
      " ...\n",
      " [0.14959363 2.48382121]\n",
      " [5.30499458 4.48409395]\n",
      " [0.8692979  2.18927312]]\n"
     ]
    }
   ],
   "source": [
    "theta = np.radians(40)\n",
    "r_matrix = get_rotation_matrix(theta)\n",
    "data_rotated = data @ r_matrix\n",
    "print(r_matrix)\n",
    "print(data_rotated)"
   ]
  },
  {
   "cell_type": "markdown",
   "metadata": {},
   "source": [
    "c) [55%] Erstellen Sie einen Plot, der möglichst ähnlich aussieht, wie der Beispielplot: \n",
    "\n",
    "Tipps: \n",
    "- Viele der hier verwendeten Funktionen wurden nicht in der Vorlesung oder im Tutorat behandelt - Google hilft!\n",
    "- Sie können die Daten leicht in einem Scatterplot plotten, wenn Sie den Datenarray transponieren und dann mit `*` an die Plot-Funktion weitergeben: `ax.scatter(*data.T)`\n",
    "- Das Kreuz, das den Mittelwert anzeigt, ist ein eigener Plot bestehend aus nur einem Punkt\n",
    "- Die Transparanz in den Punkten und Histogrammen ist hilfreich, wenn man Dinge sichtbar machen will, die sich überlagern"
   ]
  },
  {
   "cell_type": "markdown",
   "metadata": {},
   "source": [
    "![Exercise_plot.JPG](Exercise_plot.JPG)"
   ]
  },
  {
   "cell_type": "code",
   "execution_count": null,
   "metadata": {
    "collapsed": false,
    "jupyter": {
     "outputs_hidden": false
    },
    "tags": []
   },
   "outputs": [],
   "source": [
    "plt.subplots(figsize=(10,5))\n",
    "plt.subplot(1, 2, 1).spines[['right', 'top']].set_visible(False)\n",
    "plt.scatter(*data.T, alpha=0.5, color=\"darkblue\", s=5)\n",
    "plt.scatter(*data_rotated.T, alpha = 0.5, color=\"darkorange\", s=5)\n",
    "plt.scatter(0, 0, marker=\"x\", color=\"black\", label=\"Mean\")\n",
    "plt.title(\"Original and rotated point cloud\")\n",
    "plt.xlabel(\"x\", fontsize=\"xx-large\")\n",
    "plt.ylabel(\"y\", fontsize=\"xx-large\")\n",
    "plt.xticks([-15, -5, 5, 15], fontsize=\"x-large\")\n",
    "plt.yticks([-5, 5, 15], fontsize=\"x-large\") \n",
    "plt.xlim(-20, 15)\n",
    "plt.ylim(-15, 20)\n",
    "plt.legend(loc=2, frameon=False)\n",
    "\n",
    "plt.subplot(1, 2, 2).spines[['right', 'top']].set_visible(False)\n",
    "plt.hist(data[:,0], bins=40, alpha=0.5, label=\"Original data\", color=\"darkblue\")\n",
    "plt.hist(data_rotated[:,0], bins=120, alpha=0.5, label=\"Rotated data\", color=\"darkorange\")\n",
    "plt.xlim(-20, 15)\n",
    "plt.title(\"Histogram of the x dimension\")\n",
    "plt.xlabel(\"x\", fontsize=\"xx-large\")\n",
    "plt.ylabel(\"Count\", fontsize=\"large\")\n",
    "plt.xticks([-15, -5, 5, 15], fontsize=\"x-large\")\n",
    "plt.yticks(fontsize=\"x-large\")\n",
    "plt.legend(loc=6, frameon=False)\n",
    "print(data[:,0])\n",
    "print(data_rotated[:,0])"
   ]
  },
  {
   "cell_type": "code",
   "execution_count": null,
   "metadata": {},
   "outputs": [],
   "source": []
  }
 ],
 "metadata": {
  "kernelspec": {
   "display_name": "Python 3 (ipykernel)",
   "language": "python",
   "name": "python3"
  },
  "language_info": {
   "codemirror_mode": {
    "name": "ipython",
    "version": 3
   },
   "file_extension": ".py",
   "mimetype": "text/x-python",
   "name": "python",
   "nbconvert_exporter": "python",
   "pygments_lexer": "ipython3",
   "version": "3.10.10"
  }
 },
 "nbformat": 4,
 "nbformat_minor": 4
}
