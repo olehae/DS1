{
 "cells": [
  {
   "cell_type": "markdown",
   "metadata": {},
   "source": [
    "# Bash Tutorial\n"
   ]
  },
  {
   "cell_type": "markdown",
   "metadata": {},
   "source": [
    "# Allgemeine Dinge zu Bash:\n",
    "\n",
    "Ein Kommando endet mit einem Zeilenumbruch oder Semikolon:"
   ]
  },
  {
   "cell_type": "code",
   "execution_count": 4,
   "metadata": {},
   "outputs": [
    {
     "name": "stdout",
     "output_type": "stream",
     "text": [
      "/home/jovyan\n"
     ]
    }
   ],
   "source": [
    "cd ~/; pwd"
   ]
  },
  {
   "cell_type": "markdown",
   "metadata": {},
   "source": [
    "Klammern können manchmal wichtig sein:"
   ]
  },
  {
   "cell_type": "code",
   "execution_count": 5,
   "metadata": {},
   "outputs": [
    {
     "name": "stdout",
     "output_type": "stream",
     "text": [
      "      2       3      25\n"
     ]
    }
   ],
   "source": [
    "(echo \"Hello World\"; pwd) | wc"
   ]
  },
  {
   "cell_type": "markdown",
   "metadata": {},
   "source": [
    "Kommentare werden mit `#` eingeleitet."
   ]
  },
  {
   "cell_type": "markdown",
   "metadata": {},
   "source": [
    "Um einen Prozess im Hintergrund auszuführen, wird ein Und-Zeichen (`&`) verwendet:"
   ]
  },
  {
   "cell_type": "code",
   "execution_count": 6,
   "metadata": {},
   "outputs": [
    {
     "name": "stdout",
     "output_type": "stream",
     "text": [
      "[1] 80\n"
     ]
    }
   ],
   "source": [
    "(sleep 10; echo 10 Sekunden um) &"
   ]
  },
  {
   "cell_type": "markdown",
   "metadata": {},
   "source": [
    "# Wichtige Befehle"
   ]
  },
  {
   "cell_type": "markdown",
   "metadata": {},
   "source": [
    "### Quiz 1:\n",
    "Was bewirkt das folgende Skript und was bedeutet die Ausgabe?"
   ]
  },
  {
   "cell_type": "code",
   "execution_count": 4,
   "metadata": {},
   "outputs": [
    {
     "name": "stdout",
     "output_type": "stream",
     "text": [
      "      1       2       8\n"
     ]
    }
   ],
   "source": [
    "echo Hallo Welt | sed 's/l//g' | wc"
   ]
  },
  {
   "cell_type": "markdown",
   "metadata": {},
   "source": [
    "### Quiz 2:\n",
    "Was bewirkt das folgende Skript und was bedeutet die Ausgabe?"
   ]
  },
  {
   "cell_type": "code",
   "execution_count": 26,
   "metadata": {},
   "outputs": [
    {
     "name": "stdout",
     "output_type": "stream",
     "text": [
      "  -A, --almost-all           do not list implied . and ..\n",
      "  -B, --ignore-backups       do not list implied entries ending with ~\n"
     ]
    }
   ],
   "source": [
    "ls --help | grep list | head -n 2"
   ]
  },
  {
   "cell_type": "markdown",
   "metadata": {},
   "source": [
    "## Read\n",
    "Liest den Wert einer Variablen vom Benutzer ein. (Nicht im Notebook ausführen)"
   ]
  },
  {
   "cell_type": "code",
   "execution_count": 13,
   "metadata": {},
   "outputs": [
    {
     "name": "stdout",
     "output_type": "stream",
     "text": [
      "\n"
     ]
    }
   ],
   "source": [
    "echo Bitte Name eingeben:\n",
    "read name\n",
    "echo Dein Name ist $name"
   ]
  },
  {
   "cell_type": "markdown",
   "metadata": {},
   "source": [
    "## Paste "
   ]
  },
  {
   "cell_type": "markdown",
   "metadata": {},
   "source": [
    "`paste` kombiniert Inputs zeilenweise "
   ]
  },
  {
   "cell_type": "code",
   "execution_count": 20,
   "metadata": {},
   "outputs": [
    {
     "name": "stdout",
     "output_type": "stream",
     "text": [
      "Usage: paste [OPTION]... [FILE]...\n",
      "Write lines consisting of the sequentially corresponding lines from\n",
      "each FILE, separated by TABs, to standard output.\n",
      "\n",
      "With no FILE, or when FILE is -, read standard input.\n",
      "\n",
      "Mandatory arguments to long options are mandatory for short options too.\n",
      "  -d, --delimiters=LIST   reuse characters from LIST instead of TABs\n",
      "  -s, --serial            paste one file at a time instead of in parallel\n",
      "  -z, --zero-terminated    line delimiter is NUL, not newline\n",
      "      --help     display this help and exit\n",
      "      --version  output version information and exit\n",
      "\n",
      "GNU coreutils online help: <https://www.gnu.org/software/coreutils/>\n",
      "Full documentation <https://www.gnu.org/software/coreutils/paste>\n",
      "or available locally via: info '(coreutils) paste invocation'\n"
     ]
    }
   ],
   "source": [
    "paste --help"
   ]
  },
  {
   "cell_type": "markdown",
   "metadata": {},
   "source": [
    "### Quiz 3:\n",
    "Was bewirkt das folgende Skript und was bedeutet die Ausgabe?"
   ]
  },
  {
   "cell_type": "code",
   "execution_count": 21,
   "metadata": {},
   "outputs": [
    {
     "name": "stdout",
     "output_type": "stream",
     "text": [
      "Das Haus am See\n"
     ]
    }
   ],
   "source": [
    "echo Das Haus > datei1.txt; echo am See > datei2.txt; paste -d ' ' datei1.txt datei2.txt"
   ]
  },
  {
   "cell_type": "markdown",
   "metadata": {
    "tags": []
   },
   "source": [
    "### Quiz 4:\n",
    "Was bewirkt das folgende Skript und was bedeutet die Ausgabe?"
   ]
  },
  {
   "cell_type": "code",
   "execution_count": 7,
   "metadata": {},
   "outputs": [
    {
     "name": "stdout",
     "output_type": "stream",
     "text": [
      "Das Haus_am See\n",
      "oh je_mi ne\n"
     ]
    }
   ],
   "source": [
    "echo Das Haus > datei1.txt; echo oh je >> datei1.txt;\n",
    "echo -e \"am See\\nmi ne\" > datei2.txt; paste -d '_' datei1.txt datei2.txt"
   ]
  },
  {
   "cell_type": "markdown",
   "metadata": {},
   "source": [
    "## Find\n",
    "`find [path] [expression]` kann Dateien finden die einer bestimmten `expression` entsprechen. Kann nützlich sein um z.B. andere Befehle nur auf bestimmten Dateien auszuführen.  \n"
   ]
  },
  {
   "cell_type": "code",
   "execution_count": 28,
   "metadata": {},
   "outputs": [
    {
     "name": "stdout",
     "output_type": "stream",
     "text": [
      "Usage: find [-H] [-L] [-P] [-Olevel] [-D debugopts] [path...] [expression]\n",
      "\n",
      "default path is the current directory; default expression is -print\n",
      "expression may consist of: operators, options, tests, and actions:\n",
      "operators (decreasing precedence; -and is implicit where no others are given):\n",
      "      ( EXPR )   ! EXPR   -not EXPR   EXPR1 -a EXPR2   EXPR1 -and EXPR2\n",
      "      EXPR1 -o EXPR2   EXPR1 -or EXPR2   EXPR1 , EXPR2\n",
      "positional options (always true): -daystart -follow -regextype\n",
      "\n",
      "normal options (always true, specified before other expressions):\n",
      "      -depth --help -maxdepth LEVELS -mindepth LEVELS -mount -noleaf\n",
      "      --version -xdev -ignore_readdir_race -noignore_readdir_race\n",
      "tests (N can be +N or -N or N): -amin N -anewer FILE -atime N -cmin N\n",
      "      -cnewer FILE -ctime N -empty -false -fstype TYPE -gid N -group NAME\n",
      "      -ilname PATTERN -iname PATTERN -inum N -iwholename PATTERN -iregex PATTERN\n",
      "      -links N -lname PATTERN -mmin N -mtime N -name PATTERN -newer FILE\n",
      "      -nouser -nogroup -path PATTERN -perm [-/]MODE -regex PATTERN\n",
      "      -readable -writable -executable\n",
      "      -wholename PATTERN -size N[bcwkMG] -true -type [bcdpflsD] -uid N\n",
      "      -used N -user NAME -xtype [bcdpfls]      -context CONTEXT\n",
      "\n",
      "actions: -delete -print0 -printf FORMAT -fprintf FILE FORMAT -print \n",
      "      -fprint0 FILE -fprint FILE -ls -fls FILE -prune -quit\n",
      "      -exec COMMAND ; -exec COMMAND {} + -ok COMMAND ;\n",
      "      -execdir COMMAND ; -execdir COMMAND {} + -okdir COMMAND ;\n",
      "\n",
      "Valid arguments for -D:\n",
      "exec, opt, rates, search, stat, time, tree, all, help\n",
      "Use '-D help' for a description of the options, or see find(1)\n",
      "\n",
      "Please see also the documentation at https://www.gnu.org/software/findutils/.\n",
      "You can report (and track progress on fixing) bugs in the \"find\"\n",
      "program via the GNU findutils bug-reporting page at\n",
      "https://savannah.gnu.org/bugs/?group=findutils or, if\n",
      "you have no web access, by sending email to <bug-findutils@gnu.org>.\n"
     ]
    }
   ],
   "source": [
    "find --help"
   ]
  },
  {
   "cell_type": "markdown",
   "metadata": {},
   "source": [
    "### Quiz 5:\n",
    "Was bewirkt das folgende Skript und was bedeutet die Ausgabe?"
   ]
  },
  {
   "cell_type": "code",
   "execution_count": 23,
   "metadata": {},
   "outputs": [
    {
     "name": "stdout",
     "output_type": "stream",
     "text": [
      "==> ./public/0579223/MCNcourse2022/fsl/extras/include/boost/libs/serialization/example/demo_output.txt <==\n",
      "original schedule\n",
      "\n",
      "==> ./public/0579223/MCNcourse2022/fsl/extras/include/boost/libs/serialization/example/demofile.txt <==\n",
      "22 serialization::archive 3 0 2 0 0 6 0 0 0 0 6 24 4 1 0\n",
      "\n",
      "==> ./data_science/Tutorial2/.ipynb_checkpoints/datei1-checkpoint.txt <==\n",
      "Das Haus\n",
      "\n",
      "==> ./data_science/Tutorial2/.ipynb_checkpoints/datei2-checkpoint.txt <==\n",
      "am See\n",
      "\n",
      "==> ./data_science/Tutorial2/datei1.txt <==\n",
      "Das Haus\n",
      "\n",
      "==> ./data_science/Tutorial2/datei2.txt <==\n",
      "am See\n"
     ]
    }
   ],
   "source": [
    "find . -name 'd*.txt' | xargs head -n 1  \n"
   ]
  },
  {
   "cell_type": "markdown",
   "metadata": {},
   "source": [
    "## AWK "
   ]
  },
  {
   "cell_type": "markdown",
   "metadata": {},
   "source": [
    "AWK ist eine Programmiersprache die dazu entworfen ist Textdaten zu verarbeiten.\n",
    "Im allgemeinen folgen die Befehle der folgenden Syntax:\n",
    "\n",
    "```bash \n",
    "awk Bedingung { Anweisungen }\n",
    "``` "
   ]
  },
  {
   "cell_type": "code",
   "execution_count": 38,
   "metadata": {},
   "outputs": [
    {
     "name": "stdout",
     "output_type": "stream",
     "text": [
      "root:x:0:0:root:/root:/bin/bash\n",
      "daemon:x:1:1:daemon:/usr/sbin:/usr/sbin/nologin\n",
      "bin:x:2:2:bin:/bin:/usr/sbin/nologin\n",
      "sys:x:3:3:sys:/dev:/usr/sbin/nologin\n",
      "sync:x:4:65534:sync:/bin:/bin/sync\n",
      "games:x:5:60:games:/usr/games:/usr/sbin/nologin\n",
      "man:x:6:12:man:/var/cache/man:/usr/sbin/nologin\n",
      "lp:x:7:7:lp:/var/spool/lpd:/usr/sbin/nologin\n",
      "mail:x:8:8:mail:/var/mail:/usr/sbin/nologin\n",
      "news:x:9:9:news:/var/spool/news:/usr/sbin/nologin\n",
      "uucp:x:10:10:uucp:/var/spool/uucp:/usr/sbin/nologin\n",
      "proxy:x:13:13:proxy:/bin:/usr/sbin/nologin\n",
      "www-data:x:33:33:www-data:/var/www:/usr/sbin/nologin\n",
      "backup:x:34:34:backup:/var/backups:/usr/sbin/nologin\n",
      "list:x:38:38:Mailing List Manager:/var/list:/usr/sbin/nologin\n",
      "irc:x:39:39:ircd:/run/ircd:/usr/sbin/nologin\n",
      "gnats:x:41:41:Gnats Bug-Reporting System (admin):/var/lib/gnats:/usr/sbin/nologin\n",
      "nobody:x:65534:65534:nobody:/nonexistent:/usr/sbin/nologin\n",
      "_apt:x:100:65534::/nonexistent:/usr/sbin/nologin\n",
      "jovyan:x:1000:100::/home/jovyan:/bin/bash\n"
     ]
    }
   ],
   "source": [
    "awk '{ print $0 }' /etc/passwd"
   ]
  },
  {
   "cell_type": "code",
   "execution_count": 39,
   "metadata": {},
   "outputs": [
    {
     "name": "stdout",
     "output_type": "stream",
     "text": [
      "root\n",
      "daemon\n",
      "bin\n",
      "sys\n",
      "sync\n",
      "games\n",
      "man\n",
      "lp\n",
      "mail\n",
      "news\n",
      "uucp\n",
      "proxy\n",
      "www-data\n",
      "backup\n",
      "list\n",
      "irc\n",
      "gnats\n",
      "nobody\n",
      "_apt\n",
      "jovyan\n"
     ]
    }
   ],
   "source": [
    "awk -F':' '{ print $1 }' /etc/passwd"
   ]
  },
  {
   "cell_type": "code",
   "execution_count": 45,
   "metadata": {},
   "outputs": [
    {
     "name": "stdout",
     "output_type": "stream",
     "text": [
      "127.0.0.1\n",
      "::1\n"
     ]
    }
   ],
   "source": [
    "awk '$2 == \"localhost\" { print $1 }' /etc/hosts "
   ]
  },
  {
   "cell_type": "markdown",
   "metadata": {},
   "source": [
    "# Bash Scripting"
   ]
  },
  {
   "cell_type": "markdown",
   "metadata": {},
   "source": [
    "## Variablen\n",
    "Variablen in bash werden mit `=` zugewiesen (schreib-Zugriff) und mit `$` verwendet (lese-Zugriff). (**Achtung:** Kein Leerzeichen nach oder vor `=`!)  "
   ]
  },
  {
   "cell_type": "code",
   "execution_count": 9,
   "metadata": {},
   "outputs": [
    {
     "name": "stdout",
     "output_type": "stream",
     "text": [
      "Hello fellow data scientist\n"
     ]
    }
   ],
   "source": [
    "greeting=\"Hello\"\n",
    "echo \"$greeting fellow data scientist\""
   ]
  },
  {
   "cell_type": "markdown",
   "metadata": {},
   "source": [
    "Befehlsersetzung erlaubt es die Ausgabe eines Befehls direkt einer Variablen zu zu weisen."
   ]
  },
  {
   "cell_type": "code",
   "execution_count": 33,
   "metadata": {},
   "outputs": [
    {
     "name": "stdout",
     "output_type": "stream",
     "text": [
      "Hello jovyan! Today is Wednesday.\n"
     ]
    }
   ],
   "source": [
    "user=$(whoami)\n",
    "day=$(date +%A)\n",
    "echo \"$greeting $user! Today is $day.\""
   ]
  },
  {
   "cell_type": "markdown",
   "metadata": {},
   "source": [
    "Der Kontext in dem eine Variable definiert ist beschränkt sich normalerweise auf die aktuelle Shell-Instanz.\n",
    "Manche Variablen sind allerdings System-weit definiert:"
   ]
  },
  {
   "cell_type": "code",
   "execution_count": 2,
   "metadata": {},
   "outputs": [
    {
     "name": "stdout",
     "output_type": "stream",
     "text": [
      "/opt/conda/bin:/usr/local/sbin:/usr/local/bin:/usr/sbin:/usr/bin:/sbin:/bin\n",
      "/home/jovyan\n"
     ]
    }
   ],
   "source": [
    "echo $PATH # Liste von Verzeichnissen, in denen die Shell nach Kommandos sucht\n",
    "echo $HOME # Heimatverzeichnis des Benutzers"
   ]
  },
  {
   "cell_type": "code",
   "execution_count": 3,
   "metadata": {},
   "outputs": [],
   "source": [
    "$0 # das gerade ausgeführte Programm selbst"
   ]
  },
  {
   "cell_type": "markdown",
   "metadata": {},
   "source": [
    "## Kontrollstrukturen"
   ]
  },
  {
   "cell_type": "markdown",
   "metadata": {},
   "source": [
    "```bash\n",
    "if <anweisung>; then\n",
    "    <anweisungen>\n",
    "else\n",
    "    <anweisungen>\n",
    "fi\n",
    "```\n"
   ]
  },
  {
   "cell_type": "code",
   "execution_count": 36,
   "metadata": {},
   "outputs": [
    {
     "name": "stdout",
     "output_type": "stream",
     "text": [
      "300 is greater than 200!\n"
     ]
    }
   ],
   "source": [
    "num_a=300\n",
    "num_b=200\n",
    "\n",
    "if [ $num_a -lt $num_b ]; then\n",
    "    echo \"$num_a is less than $num_b!\"\n",
    "else\n",
    "    echo \"$num_a is greater than $num_b!\"\n",
    "fi"
   ]
  },
  {
   "cell_type": "markdown",
   "metadata": {},
   "source": [
    "Jede Anweisung liefert einen exit-Code: \n",
    "    \n",
    "- 0: erfolgreich\n",
    "- ungleich 0: nicht erfolgreich"
   ]
  },
  {
   "cell_type": "markdown",
   "metadata": {},
   "source": [
    "Vergleichsoperationen (wichtig: eckige Klammern `[...]`):\n",
    "- Strings:\n",
    "    - `Var1 = Var2`\n",
    "    - `Var1 != Var2`\n",
    "- Ganze Zahlen:\n",
    "    - Gleichheit: `-eq`\n",
    "    - Ungleichheit: `-ne`\n",
    "    - Größer als: `-gt`\n",
    "    - Größer gleich: `-ge`\n",
    "    - Kleiner als: `-lt`\n",
    "    - Kleiner gleich: `-le`"
   ]
  },
  {
   "cell_type": "markdown",
   "metadata": {
    "tags": []
   },
   "source": [
    "## Schleifen"
   ]
  },
  {
   "cell_type": "markdown",
   "metadata": {},
   "source": [
    "```bash\n",
    "for <variable> in <Liste von Worten>\n",
    "do \n",
    "    <anweisungen>\n",
    "done\n",
    "```"
   ]
  },
  {
   "cell_type": "code",
   "execution_count": 40,
   "metadata": {},
   "outputs": [
    {
     "name": "stdout",
     "output_type": "stream",
     "text": [
      "1\n",
      "2\n",
      "3\n"
     ]
    }
   ],
   "source": [
    "for i in 1 2 3; do\n",
    "    echo $i\n",
    "done"
   ]
  },
  {
   "cell_type": "code",
   "execution_count": 51,
   "metadata": {},
   "outputs": [
    {
     "name": "stdout",
     "output_type": "stream",
     "text": [
      "Dies ist\n",
      "ein\n",
      "Test\n"
     ]
    }
   ],
   "source": [
    "for i in \"Dies ist\" ein Test; do\n",
    "    echo $i\n",
    "done"
   ]
  },
  {
   "cell_type": "code",
   "execution_count": 1,
   "metadata": {},
   "outputs": [
    {
     "name": "stdout",
     "output_type": "stream",
     "text": [
      "0\n",
      "1\n",
      "2\n",
      "3\n"
     ]
    }
   ],
   "source": [
    "for ((i=0;i<4;i++)); do \n",
    "    echo $i\n",
    "done"
   ]
  },
  {
   "cell_type": "code",
   "execution_count": 41,
   "metadata": {},
   "outputs": [
    {
     "name": "stdout",
     "output_type": "stream",
     "text": [
      "1\n",
      "2\n",
      "3\n"
     ]
    }
   ],
   "source": [
    "counter=0\n",
    "while [ $counter -lt 3 ]; do\n",
    "    let counter+=1  # Evaluation of arithmetic expression\n",
    "    echo $counter\n",
    "done"
   ]
  },
  {
   "cell_type": "code",
   "execution_count": 42,
   "metadata": {},
   "outputs": [
    {
     "name": "stdout",
     "output_type": "stream",
     "text": [
      "5\n",
      "4\n",
      "3\n",
      "2\n"
     ]
    }
   ],
   "source": [
    "counter=6\n",
    "until [ $counter -lt 3 ]; do\n",
    "    let counter-=1\n",
    "    echo $counter\n",
    "done"
   ]
  },
  {
   "cell_type": "markdown",
   "metadata": {},
   "source": [
    "## Inputs, Outputs und Parameter"
   ]
  },
  {
   "cell_type": "markdown",
   "metadata": {},
   "source": [
    "Jedes Kommando verfügt über drei Kanäle:\n",
    "\n",
    "    0: Standard-Eingabe (Tastatur)\n",
    "    1: Standard-Ausgabe (Bildschirm)\n",
    "    2: Fehlerausgabe (Bildschirm)\n",
    "\n",
    "Kanäle verbinden den Befehl mit dem Betriebssystem\n",
    "\n",
    "Pipes (`|`) können Kanal 1 eines Befehls in Kanal 0 des nächsten Befehls umleiten"
   ]
  },
  {
   "cell_type": "code",
   "execution_count": 43,
   "metadata": {},
   "outputs": [
    {
     "name": "stdout",
     "output_type": "stream",
     "text": [
      "12\n"
     ]
    }
   ],
   "source": [
    "ls -al | wc -l"
   ]
  },
  {
   "cell_type": "markdown",
   "metadata": {},
   "source": [
    "`tee` (T-Stück) kann eine Pipe \"anzapfen\":"
   ]
  },
  {
   "cell_type": "code",
   "execution_count": 44,
   "metadata": {},
   "outputs": [
    {
     "name": "stdout",
     "output_type": "stream",
     "text": [
      "      1       7      32\n"
     ]
    }
   ],
   "source": [
    "date | tee datums_datei | wc "
   ]
  },
  {
   "cell_type": "code",
   "execution_count": 45,
   "metadata": {},
   "outputs": [
    {
     "name": "stdout",
     "output_type": "stream",
     "text": [
      "Wed Nov  2 08:27:47 AM UTC 2022\n"
     ]
    }
   ],
   "source": [
    "cat datums_datei"
   ]
  },
  {
   "cell_type": "markdown",
   "metadata": {},
   "source": [
    "Ein- und Ausgabe ist mittels `<` und `>` auch in/aus Dateien möglich"
   ]
  },
  {
   "cell_type": "code",
   "execution_count": 50,
   "metadata": {},
   "outputs": [],
   "source": [
    "sort < datei1.txt > temp"
   ]
  },
  {
   "cell_type": "markdown",
   "metadata": {},
   "source": [
    "Parameter eines Shell-Scripts werden automatisch in den Variablen `$1`,...`$9`,`${10}`,... abgespeichert. "
   ]
  },
  {
   "cell_type": "markdown",
   "metadata": {
    "tags": []
   },
   "source": [
    "### Quiz 7:\n",
    "Was bewirkt das folgende Skript und was bedeutet die Ausgabe?"
   ]
  },
  {
   "cell_type": "code",
   "execution_count": 15,
   "metadata": {},
   "outputs": [
    {
     "name": "stdout",
     "output_type": "stream",
     "text": [
      "10110\n"
     ]
    }
   ],
   "source": [
    "name=\"Data Science 2022\"; echo $name | awk ' { print $3*5 } '"
   ]
  },
  {
   "cell_type": "markdown",
   "metadata": {},
   "source": [
    "# Hands-On:"
   ]
  },
  {
   "cell_type": "markdown",
   "metadata": {},
   "source": [
    "1) Schreiben Sie ein Bash-Skript `janein.sh`, das den Benutzer `“Sind Sie sicher? [Ja oder Nein]”` fragt und auf eine Eingabe wartet. Ist die Antwort `“Ja”`, so soll sich das Skript mit Rückgabewert `0` beenden, bei `“Nein”` mit `1`. Bei einer anderen Antwort soll die Anfrage wiederholt werden."
   ]
  },
  {
   "cell_type": "code",
   "execution_count": 34,
   "metadata": {},
   "outputs": [],
   "source": [
    "chmod u+x janein.sh"
   ]
  },
  {
   "cell_type": "code",
   "execution_count": 37,
   "metadata": {},
   "outputs": [
    {
     "name": "stdout",
     "output_type": "stream",
     "text": [
      "Sind sie sicher [Ja oder Nein]?"
     ]
    }
   ],
   "source": [
    "./janein.sh"
   ]
  },
  {
   "cell_type": "markdown",
   "metadata": {},
   "source": [
    "2) Wie kann das Skript `janein.sh` auf der Kommandozeile eingesetzt werden, um einen darauf folgenden Befehl durch Nachfrage vor der Ausführung abzusichern? Geben Sie ein Beispiel.\n",
    "Hinweis: Schreiben Sie hierzu kein neues Skript, sondern geben Sie eine Kommandofolge an, wie sie auf der Kommndazeile erfolgen müsste"
   ]
  },
  {
   "cell_type": "code",
   "execution_count": null,
   "metadata": {},
   "outputs": [],
   "source": [
    "if ./janein.sh; then echo \"Doing something\"; fi"
   ]
  },
  {
   "cell_type": "markdown",
   "metadata": {},
   "source": [
    "3) Schreiben Sie ein Bash-Skript `zahlenfolge.sh`, das als Eingabe zwei Zahlen bekommt (z.B. `./zahlenfolge.sh 2 8`) und als Ausgabe eine Zahlenfolge ausgibt, die alle zwischenliegenden Zahlen in aufsteigender Reihenfolge beinhaltet (für obiges Beispiel also die Zahlen `3, 4, 5, 6` und `7`). Dieses Skript soll auch funktionieren, wenn die beiden Eingabezahlen in vertauschter Reihenfolge geschrieben werden; d.h., für `./zahlenfolge 8 2` sollen die Zahlen `3` bis `7` auch in aufsteigender Reihenfolge ausgegeben werden."
   ]
  },
  {
   "cell_type": "code",
   "execution_count": 28,
   "metadata": {},
   "outputs": [],
   "source": [
    "chmod u+x zahlenfolge.sh"
   ]
  },
  {
   "cell_type": "code",
   "execution_count": 33,
   "metadata": {},
   "outputs": [
    {
     "name": "stdout",
     "output_type": "stream",
     "text": [
      "3 4 5 6 7 "
     ]
    }
   ],
   "source": [
    "./zahlenfolge.sh 8 2"
   ]
  },
  {
   "cell_type": "code",
   "execution_count": null,
   "metadata": {},
   "outputs": [],
   "source": []
  }
 ],
 "metadata": {
  "kernelspec": {
   "display_name": "Python 3",
   "language": "python",
   "name": "python3"
  },
  "language_info": {
   "codemirror_mode": {
    "name": "ipython",
    "version": 3
   },
   "file_extension": ".py",
   "mimetype": "text/x-python",
   "name": "python",
   "nbconvert_exporter": "python",
   "pygments_lexer": "ipython3",
   "version": "3.8.0"
  }
 },
 "nbformat": 4,
 "nbformat_minor": 5
}
